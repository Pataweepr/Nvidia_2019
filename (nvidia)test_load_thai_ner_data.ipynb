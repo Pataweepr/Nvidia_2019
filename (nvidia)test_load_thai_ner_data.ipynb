{
  "nbformat": 4,
  "nbformat_minor": 0,
  "metadata": {
    "colab": {
      "name": "(nvidia)test_load_thai_ner_data.ipynb",
      "provenance": [],
      "collapsed_sections": [],
      "toc_visible": true,
      "include_colab_link": true
    },
    "kernelspec": {
      "name": "python3",
      "display_name": "Python 3"
    }
  },
  "cells": [
    {
      "cell_type": "markdown",
      "metadata": {
        "id": "view-in-github",
        "colab_type": "text"
      },
      "source": [
        "<a href=\"https://colab.research.google.com/github/Pataweepr/Nvidia_2019/blob/master/(nvidia)test_load_thai_ner_data.ipynb\" target=\"_parent\"><img src=\"https://colab.research.google.com/assets/colab-badge.svg\" alt=\"Open In Colab\"/></a>"
      ]
    },
    {
      "cell_type": "markdown",
      "metadata": {
        "id": "hXTs_F8begNo",
        "colab_type": "text"
      },
      "source": [
        "## [NER_file](https://drive.google.com/file/d/1Pkb9_3OjubTEJbR7inYVZo0CEYlctfSW/view?usp=sharing)"
      ]
    },
    {
      "cell_type": "code",
      "metadata": {
        "id": "7Xzo2ubH6ops",
        "colab_type": "code",
        "outputId": "e9c10766-b010-42d4-d867-d0c2de046884",
        "colab": {
          "base_uri": "https://localhost:8080/",
          "height": 55
        }
      },
      "source": [
        "from google.colab import drive\n",
        "drive.mount('/content/gdrive/')"
      ],
      "execution_count": 0,
      "outputs": [
        {
          "output_type": "stream",
          "text": [
            "Drive already mounted at /content/gdrive/; to attempt to forcibly remount, call drive.mount(\"/content/gdrive/\", force_remount=True).\n"
          ],
          "name": "stdout"
        }
      ]
    },
    {
      "cell_type": "code",
      "metadata": {
        "id": "W3YVkOXV7ipe",
        "colab_type": "code",
        "colab": {}
      },
      "source": [
        "#!ls gdrive/My\\ Drive"
      ],
      "execution_count": 0,
      "outputs": []
    },
    {
      "cell_type": "code",
      "metadata": {
        "id": "nSwM02om7GXH",
        "colab_type": "code",
        "outputId": "5eed0149-0cbe-4a23-8ff2-964341ebaaa0",
        "colab": {
          "base_uri": "https://localhost:8080/",
          "height": 141
        }
      },
      "source": [
        "!unzip gdrive/My\\ Drive/NER.zip"
      ],
      "execution_count": 0,
      "outputs": [
        {
          "output_type": "stream",
          "text": [
            "Archive:  gdrive/My Drive/NER.zip\n",
            "replace thai_ner-08072018-14-01.raw.conll? [y]es, [n]o, [A]ll, [N]one, [r]ename: A\n",
            "  inflating: thai_ner-08072018-14-01.raw.conll  \n",
            "  inflating: __MACOSX/._thai_ner-08072018-14-01.raw.conll  \n",
            "  inflating: thai_ner-11072018-21-14.raw.conll  \n",
            "  inflating: __MACOSX/._thai_ner-11072018-21-14.raw.conll  \n"
          ],
          "name": "stdout"
        }
      ]
    },
    {
      "cell_type": "markdown",
      "metadata": {
        "id": "jHDRwGoLq8s4",
        "colab_type": "text"
      },
      "source": [
        "## read data NER"
      ]
    },
    {
      "cell_type": "code",
      "metadata": {
        "id": "SnHwuNjw7knm",
        "colab_type": "code",
        "colab": {}
      },
      "source": [
        "with open(\"thai_ner-11072018-21-14.raw.conll\",encoding='utf-8-sig') as f:\n",
        "  thai_vocab = f.read().splitlines() \n",
        "\n",
        "ner_target_01 = []\n",
        "words_01 = []\n",
        "n = 0 \n",
        "\n",
        "stack_sentences_01 = []\n",
        "\n",
        "for words_target in thai_vocab:\n",
        "  w_tar_split = words_target.split('\\t')\n",
        "  \n",
        "  if len(w_tar_split) == 1:\n",
        "    stack_sentences_01.append((words_01,ner_target_01))\n",
        "    words_01 = []\n",
        "    ner_target_01 = []\n",
        "  else:\n",
        "    words_01.append(w_tar_split[0])\n",
        "    ner_target_01.append(w_tar_split[1])\n",
        "    \n",
        "  if words_target == thai_vocab[-1]:\n",
        "    stack_sentences_01.append((words_01,ner_target_01))"
      ],
      "execution_count": 0,
      "outputs": []
    },
    {
      "cell_type": "code",
      "metadata": {
        "id": "ds9aY4kYoIT-",
        "colab_type": "code",
        "outputId": "52af82f8-4728-47ca-dbb6-e1a047ae76ae",
        "colab": {
          "base_uri": "https://localhost:8080/",
          "height": 35
        }
      },
      "source": [
        "print(len(stack_sentences_01))"
      ],
      "execution_count": 0,
      "outputs": [
        {
          "output_type": "stream",
          "text": [
            "3386\n"
          ],
          "name": "stdout"
        }
      ]
    },
    {
      "cell_type": "markdown",
      "metadata": {
        "id": "XAyTWqOmrDh3",
        "colab_type": "text"
      },
      "source": [
        "## example sentences"
      ]
    },
    {
      "cell_type": "code",
      "metadata": {
        "id": "9vsuodWwoLGT",
        "colab_type": "code",
        "outputId": "04b7492e-c729-4a3e-caf7-91385c3d167c",
        "colab": {
          "base_uri": "https://localhost:8080/",
          "height": 52
        }
      },
      "source": [
        "index_sel = 0\n",
        "example_sentence = stack_sentences_01[index_sel][0]\n",
        "example_ner = stack_sentences_01[index_sel][1]\n",
        "print('words --> ',example_sentence)\n",
        "print('ner_target --> ',example_ner)"
      ],
      "execution_count": 0,
      "outputs": [
        {
          "output_type": "stream",
          "text": [
            "words -->  ['ประยุทธ์ จันทร์โอชา', ' ', 'เดินทาง', 'ไป', 'บุรีรัมย์']\n",
            "ner_target -->  ['B-PERSON', 'O', 'O', 'O', 'B-LOCATION']\n"
          ],
          "name": "stdout"
        }
      ]
    },
    {
      "cell_type": "markdown",
      "metadata": {
        "id": "WXU9ja4whsuc",
        "colab_type": "text"
      },
      "source": [
        "## counting target"
      ]
    },
    {
      "cell_type": "code",
      "metadata": {
        "id": "7XCj2XyWevjo",
        "colab_type": "code",
        "outputId": "4de2474a-e6f7-44e3-c7c0-b325f848913c",
        "colab": {
          "base_uri": "https://localhost:8080/",
          "height": 361
        }
      },
      "source": [
        "import numpy as np\n",
        "import matplotlib.pyplot as plt\n",
        "import operator\n",
        "from collections import defaultdict\n",
        "\n",
        "count_target = defaultdict(lambda: 0)\n",
        "\n",
        "for data_i in stack_sentences_01:\n",
        "  for target_i in data_i[1]:\n",
        "    count_target[target_i] += 1\n",
        "\n",
        "percent = np.array(list(count_target.values()))\n",
        "percent = percent/np.sum(percent)\n",
        "\n",
        "plt.bar(range(len(count_target)), percent , align='center')\n",
        "plt.xticks(range(len(count_target)), list(count_target.keys()),rotation='vertical')\n",
        "plt.ylabel('percent')\n",
        "plt.xlabel('target class')\n",
        "plt.grid(True)\n",
        "plt.show()"
      ],
      "execution_count": 77,
      "outputs": [
        {
          "output_type": "display_data",
          "data": {
            "image/png": "[encoded data removed]",
            "text/plain": [
              "<Figure size 432x288 with 1 Axes>"
            ]
          },
          "metadata": {
            "tags": []
          }
        }
      ]
    },
    {
      "cell_type": "markdown",
      "metadata": {
        "id": "kUCRbCtCrJCY",
        "colab_type": "text"
      },
      "source": [
        "# prepare data for training"
      ]
    },
    {
      "cell_type": "code",
      "metadata": {
        "id": "cazZhfbhHoIQ",
        "colab_type": "code",
        "outputId": "3cfa4305-8ab2-4663-d7ca-445bc59ad572",
        "colab": {
          "base_uri": "https://localhost:8080/",
          "height": 35
        }
      },
      "source": [
        "x = []\n",
        "y = []\n",
        "set_y = set()\n",
        "\n",
        "for data_i in stack_sentences_01:\n",
        "  x.append(data_i[0])\n",
        "  y.append(data_i[1])\n",
        "  set_y.update(data_i[1])\n",
        "print(len(set_y))"
      ],
      "execution_count": 0,
      "outputs": [
        {
          "output_type": "stream",
          "text": [
            "19\n"
          ],
          "name": "stdout"
        }
      ]
    },
    {
      "cell_type": "code",
      "metadata": {
        "id": "eY1oXm6yESwj",
        "colab_type": "code",
        "colab": {}
      },
      "source": [
        "from sklearn.model_selection import train_test_split\n",
        "X_train, X_test, y_train, y_test = train_test_split(x, y, test_size=0.3, random_state=42)\n",
        "# X_train, X_valid, y_train, y_valid = train_test_split(X_train, y_train, test_size=0.1, random_state=42)"
      ],
      "execution_count": 0,
      "outputs": []
    },
    {
      "cell_type": "markdown",
      "metadata": {
        "id": "t-QWiy1PrYwv",
        "colab_type": "text"
      },
      "source": [
        "## check statistic of data"
      ]
    },
    {
      "cell_type": "code",
      "metadata": {
        "id": "PgDv76fuJMZT",
        "colab_type": "code",
        "colab": {}
      },
      "source": [
        "import operator\n",
        "\n",
        "words_train = set()\n",
        "for x_i in X_train:\n",
        "  words_train.update(x_i)\n",
        "# count data \n",
        "from collections import defaultdict\n",
        "count_words = defaultdict(lambda: 0)\n",
        "\n",
        "for x_i in X_train:\n",
        "  for words_x in x_i:\n",
        "    count_words[words_x] += 1\n",
        "\n",
        "sort_words = sorted(count_words.items(), key=operator.itemgetter(1))\n",
        "sort_words.reverse()\n",
        "# sort_words\n"
      ],
      "execution_count": 0,
      "outputs": []
    },
    {
      "cell_type": "code",
      "metadata": {
        "id": "EaxczD2OL--b",
        "colab_type": "code",
        "outputId": "76c420a6-2bc6-4f20-d055-fd0f74882bfc",
        "colab": {
          "base_uri": "https://localhost:8080/",
          "height": 283
        }
      },
      "source": [
        "import numpy as np\n",
        "import matplotlib.pyplot as plt\n",
        "values = np.array([count[1] for count in sort_words])\n",
        "plt.plot(np.arange(len(values)),np.log2(values))\n",
        "plt.xlabel('order by frequecy of word')\n",
        "plt.ylabel('count')\n",
        "plt.grid(True)\n",
        "plt.show()"
      ],
      "execution_count": 0,
      "outputs": [
        {
          "output_type": "display_data",
          "data": {
            "image/png": "[encoded data removed]",
            "text/plain": [
              "<Figure size 432x288 with 1 Axes>"
            ]
          },
          "metadata": {
            "tags": []
          }
        }
      ]
    },
    {
      "cell_type": "code",
      "metadata": {
        "id": "kVxoCPlTLyzp",
        "colab_type": "code",
        "colab": {}
      },
      "source": [
        "# print(np.sum(np.log2(values) > 0))\n",
        "sel_word = sort_words[:np.sum(np.log2(values) > 0)]\n",
        "sel_word = [w[0] for w in sel_word]\n",
        "# sel_word.insert(0, 'EOS')\n",
        "sel_word = sorted(sel_word)\n",
        "sel_word.append('UNK')\n",
        "\n",
        "word2idx = {w:i for i,w in enumerate(sel_word)}\n",
        "idx2word = {i:w for i,w in enumerate(sel_word)}\n",
        "\n",
        "y_pros = list(set_y)\n",
        "y_pros = sorted(y_pros)\n",
        "label2idx = {w:i for i,w in enumerate(y_pros)}\n",
        "idx2label = {i:w for i,w in enumerate(y_pros)}\n",
        "\n",
        "X_train_ind =  [[word2idx[w] if (w in word2idx) else word2idx['UNK'] for w in sentence] for sentence in X_train]\n",
        "#X_valid_ind =  [[word2idx[w] if (w in word2idx) else word2idx['UNK'] for w in sentence] for sentence in X_valid]\n",
        "X_test_ind =  [[word2idx[w] if (w in word2idx) else word2idx['UNK'] for w in sentence] for sentence in X_test]\n",
        "\n",
        "y_train_ind =  [[label2idx[t] if (t in label2idx) else label2idx['O'] for t in target] for target in y_train]\n",
        "#y_valid_ind =  [[label2idx[t] if (t in label2idx) else label2idx['O'] for t in target] for target in y_valid]\n",
        "y_test_ind =  [[label2idx[t] if (t in label2idx) else label2idx['O'] for t in target] for target in y_test]"
      ],
      "execution_count": 0,
      "outputs": []
    },
    {
      "cell_type": "code",
      "metadata": {
        "id": "tRPXAVG_MoLP",
        "colab_type": "code",
        "outputId": "147a2088-2f80-4680-87c0-86ad280a8556",
        "colab": {
          "base_uri": "https://localhost:8080/",
          "height": 300
        }
      },
      "source": [
        "length_input = [len(sentence) for sentence in X_train ]\n",
        "length_input = np.array(length_input)\n",
        "maxlen_x = max(length_input)\n",
        "print(maxlen_x)\n",
        "plt.hist(length_input,bins = 100)\n",
        "plt.xlabel('order by length')\n",
        "plt.ylabel('count')\n",
        "plt.grid(True)\n",
        "plt.show()"
      ],
      "execution_count": 0,
      "outputs": [
        {
          "output_type": "stream",
          "text": [
            "364\n"
          ],
          "name": "stdout"
        },
        {
          "output_type": "display_data",
          "data": {
            "image/png": "[encoded data removed]",
            "text/plain": [
              "<Figure size 432x288 with 1 Axes>"
            ]
          },
          "metadata": {
            "tags": []
          }
        }
      ]
    },
    {
      "cell_type": "markdown",
      "metadata": {
        "id": "NRUYetUmpdDi",
        "colab_type": "text"
      },
      "source": [
        "---"
      ]
    },
    {
      "cell_type": "markdown",
      "metadata": {
        "id": "hLM4JMGFrh64",
        "colab_type": "text"
      },
      "source": [
        "## download library"
      ]
    },
    {
      "cell_type": "code",
      "metadata": {
        "id": "ZDhmVmQYpcvo",
        "colab_type": "code",
        "outputId": "3841f7e8-918c-4884-994c-288fe72b9320",
        "colab": {
          "base_uri": "https://localhost:8080/",
          "height": 35
        }
      },
      "source": [
        "!pip -qqq install git+https://www.github.com/keras-team/keras-contrib.git"
      ],
      "execution_count": 0,
      "outputs": [
        {
          "output_type": "stream",
          "text": [
            "  Building wheel for keras-contrib (setup.py) ... \u001b[?25l\u001b[?25hdone\n"
          ],
          "name": "stdout"
        }
      ]
    },
    {
      "cell_type": "code",
      "metadata": {
        "id": "ZzJIFE2JWyIo",
        "colab_type": "code",
        "colab": {}
      },
      "source": [
        "import numpy as np\n",
        "import numpy.random\n",
        "import keras \n",
        "import tensorflow as tf\n",
        "import tensorflow.keras.preprocessing\n",
        "np.random.seed(42)\n",
        "from keras import backend as K\n",
        "\n",
        "from keras.models import Sequential, Model\n",
        "from keras.layers import Embedding, Reshape, Activation, Input, Dense,GRU,Reshape,TimeDistributed,Bidirectional,Dropout,Masking\n",
        "from keras_contrib.layers import CRF\n",
        "from keras.optimizers import Adam\n",
        "from keras.utils import to_categorical\n"
      ],
      "execution_count": 0,
      "outputs": []
    },
    {
      "cell_type": "markdown",
      "metadata": {
        "id": "ym1LAt4ErpIV",
        "colab_type": "text"
      },
      "source": [
        "## pre-processing data"
      ]
    },
    {
      "cell_type": "code",
      "metadata": {
        "id": "tLk0xgFx0atc",
        "colab_type": "code",
        "colab": {}
      },
      "source": [
        "x_train_tf = tf.keras.preprocessing.sequence.pad_sequences(X_train_ind, maxlen=120, dtype='int32', padding='post', truncating='pre', value=0.)\n",
        "y_train_tf = tf.keras.preprocessing.sequence.pad_sequences(y_train_ind, maxlen=120, dtype='int32', padding='post', truncating='pre', value=0.)\n",
        "y_train_tf = to_categorical(y_train_tf,len(y_pros))\n",
        "\n",
        "# x_valid_tf = tf.keras.preprocessing.sequence.pad_sequences(X_test_ind, maxlen=120, dtype='int32', padding='post', truncating='pre', value=0.)\n",
        "# y_valid_tf = tf.keras.preprocessing.sequence.pad_sequences(y_valid_ind, maxlen=120, dtype='int32', padding='post', truncating='pre', value=0.)\n",
        "# y_valid_tf = to_categorical(y_valid_tf,len(y_pros))\n",
        "\n",
        "x_test_tf = tf.keras.preprocessing.sequence.pad_sequences(X_test_ind, maxlen=120, dtype='int32', padding='post', truncating='pre', value=0.)\n",
        "y_test_tf = tf.keras.preprocessing.sequence.pad_sequences(y_train_ind, maxlen=120, dtype='int32', padding='post', truncating='pre', value=0.)\n",
        "y_test_tf = to_categorical(y_test_tf,len(y_pros))"
      ],
      "execution_count": 0,
      "outputs": []
    },
    {
      "cell_type": "markdown",
      "metadata": {
        "id": "zxVy2Ryorurm",
        "colab_type": "text"
      },
      "source": [
        "# Simple classification model\n",
        "\n",
        "input -> embedding layer (size 32) -> Bi-GRU (size 32) -> Dropout 20 %  -> TimeDistributed ( Dense size (number of class) ) -> output.\n",
        "\n",
        "![alt text](https://sv1.picz.in.th/images/2019/09/19/c4cCFQ.md.png)"
      ]
    },
    {
      "cell_type": "code",
      "metadata": {
        "id": "QNcXlprnX7IV",
        "colab_type": "code",
        "outputId": "e24667e8-2444-4e1b-b296-5302c81e110f",
        "colab": {
          "base_uri": "https://localhost:8080/",
          "height": 345
        }
      },
      "source": [
        "def get_simple_model():\n",
        "  # put your code\n",
        "  return pass                   \n",
        "model_simple = get_simple_model()"
      ],
      "execution_count": 0,
      "outputs": [
        {
          "output_type": "stream",
          "text": [
            "Model: \"model_2\"\n",
            "_________________________________________________________________\n",
            "Layer (type)                 Output Shape              Param #   \n",
            "=================================================================\n",
            "input_2 (InputLayer)         (None, 120)               0         \n",
            "_________________________________________________________________\n",
            "embedding_2 (Embedding)      (None, 120, 32)           107552    \n",
            "_________________________________________________________________\n",
            "bidirectional_2 (Bidirection (None, 120, 64)           12480     \n",
            "_________________________________________________________________\n",
            "dropout_2 (Dropout)          (None, 120, 64)           0         \n",
            "_________________________________________________________________\n",
            "time_distributed_2 (TimeDist (None, 120, 19)           1235      \n",
            "=================================================================\n",
            "Total params: 121,267\n",
            "Trainable params: 121,267\n",
            "Non-trainable params: 0\n",
            "_________________________________________________________________\n",
            "None\n"
          ],
          "name": "stdout"
        }
      ]
    },
    {
      "cell_type": "markdown",
      "metadata": {
        "id": "1o6LwkNyrjFi",
        "colab_type": "text"
      },
      "source": [
        "<details>\n",
        "    <summary>SOLUTION HERE!</summary>\n",
        "      <pre>\n",
        "        <code>\n",
        "def get_simple_model():\n",
        "  input1 = Input(shape=(120,))\n",
        "  x = Embedding(len(word2idx),32,input_length=120)(input1)\n",
        "  x = Bidirectional(GRU(32, return_sequences=True))(x)\n",
        "  x = Dropout(0.2)(x)\n",
        "  out = TimeDistributed(Dense(len(y_pros),activation='softmax'))(x)\n",
        "  model1 = Model(input1, out)\n",
        "  adam  = Adam(lr=0.001)\n",
        "  model1.compile(optimizer=adam,  loss='categorical_crossentropy', metrics=['categorical_accuracy'])\n",
        "  print(model1.summary())                \n",
        "  return model1 \n",
        "        </code>\n",
        "      </pre>\n",
        "</details>"
      ]
    },
    {
      "cell_type": "code",
      "metadata": {
        "id": "4NHsVllA3g7T",
        "colab_type": "code",
        "outputId": "90d5f1e7-9a8d-497c-87a4-c2b71fb9aec2",
        "colab": {
          "base_uri": "https://localhost:8080/",
          "height": 435
        }
      },
      "source": [
        "%%time\n",
        "model_simple.fit(x_train_tf,y_train_tf,batch_size=64,epochs=10,verbose=1)"
      ],
      "execution_count": 0,
      "outputs": [
        {
          "output_type": "stream",
          "text": [
            "Epoch 1/10\n",
            "2370/2370 [==============================] - 6s 3ms/step - loss: 2.3272 - categorical_accuracy: 0.6001\n",
            "Epoch 2/10\n",
            "2370/2370 [==============================] - 5s 2ms/step - loss: 0.6866 - categorical_accuracy: 0.7551\n",
            "Epoch 3/10\n",
            "2370/2370 [==============================] - 5s 2ms/step - loss: 0.3578 - categorical_accuracy: 0.9384\n",
            "Epoch 4/10\n",
            "2370/2370 [==============================] - 5s 2ms/step - loss: 0.2451 - categorical_accuracy: 0.9544\n",
            "Epoch 5/10\n",
            "2370/2370 [==============================] - 5s 2ms/step - loss: 0.2121 - categorical_accuracy: 0.9572\n",
            "Epoch 6/10\n",
            "2370/2370 [==============================] - 5s 2ms/step - loss: 0.1902 - categorical_accuracy: 0.9592\n",
            "Epoch 7/10\n",
            "2370/2370 [==============================] - 5s 2ms/step - loss: 0.1738 - categorical_accuracy: 0.9606\n",
            "Epoch 8/10\n",
            "2370/2370 [==============================] - 5s 2ms/step - loss: 0.1611 - categorical_accuracy: 0.9616\n",
            "Epoch 9/10\n",
            "2370/2370 [==============================] - 5s 2ms/step - loss: 0.1502 - categorical_accuracy: 0.9629\n",
            "Epoch 10/10\n",
            "2370/2370 [==============================] - 5s 2ms/step - loss: 0.1412 - categorical_accuracy: 0.9643\n",
            "CPU times: user 1min 33s, sys: 2 s, total: 1min 35s\n",
            "Wall time: 52.4 s\n"
          ],
          "name": "stdout"
        },
        {
          "output_type": "execute_result",
          "data": {
            "text/plain": [
              "<keras.callbacks.History at 0x7f7152dbd1d0>"
            ]
          },
          "metadata": {
            "tags": []
          },
          "execution_count": 57
        }
      ]
    },
    {
      "cell_type": "markdown",
      "metadata": {
        "id": "VZ9aP2-crz0C",
        "colab_type": "text"
      },
      "source": [
        "## create function for seeing evaluation result "
      ]
    },
    {
      "cell_type": "code",
      "metadata": {
        "id": "K0q6nZrg_uWP",
        "colab_type": "code",
        "colab": {}
      },
      "source": [
        "def outputToLabel(yt,seq_len):\n",
        "    out = []\n",
        "    for i in range(0,len(yt)):\n",
        "        if(i==seq_len):\n",
        "            break\n",
        "        out.append(np.argmax(yt[i]))\n",
        "    return out"
      ],
      "execution_count": 0,
      "outputs": []
    },
    {
      "cell_type": "code",
      "metadata": {
        "id": "dRB4R2lHFiUS",
        "colab_type": "code",
        "colab": {}
      },
      "source": [
        "import pandas as pd\n",
        "from IPython.display import display\n",
        "\n",
        "def evaluation_report(y_true, y_pred):\n",
        "    # retrieve all tags in y_true\n",
        "    tag_set = set()\n",
        "    for sent in y_true:\n",
        "        for tag in sent:\n",
        "            tag_set.add(tag)\n",
        "    for sent in y_pred:\n",
        "        for tag in sent:\n",
        "            tag_set.add(tag)\n",
        "    tag_list = sorted(list(tag_set))\n",
        "    \n",
        "    # count correct points\n",
        "    tag_info = dict()\n",
        "    for tag in tag_list:\n",
        "        tag_info[tag] = {'correct_tagged': 0, 'y_true': 0, 'y_pred': 0}\n",
        "\n",
        "    all_correct = 0\n",
        "    all_count = sum([len(sent) for sent in y_true])\n",
        "    for sent_true, sent_pred in zip(y_true, y_pred):\n",
        "        for tag_true, tag_pred in zip(sent_true, sent_pred):\n",
        "            if tag_true == tag_pred:\n",
        "                tag_info[tag_true]['correct_tagged'] += 1\n",
        "                all_correct += 1\n",
        "            tag_info[tag_true]['y_true'] += 1\n",
        "            tag_info[tag_pred]['y_pred'] += 1\n",
        "    accuracy = (all_correct / all_count) * 100\n",
        "            \n",
        "    # summarize and make evaluation result\n",
        "    eval_list = list()\n",
        "    for tag in tag_list:\n",
        "        eval_result = dict()\n",
        "        eval_result['tag'] = tag\n",
        "        eval_result['correct_count'] = tag_info[tag]['correct_tagged']\n",
        "        precision = (tag_info[tag]['correct_tagged']/tag_info[tag]['y_pred'])*100 if tag_info[tag]['y_pred'] else '-'\n",
        "        recall = (tag_info[tag]['correct_tagged']/tag_info[tag]['y_true'])*100 if (tag_info[tag]['y_true'] > 0) else 0\n",
        "        eval_result['precision'] = precision\n",
        "        eval_result['recall'] = recall\n",
        "        eval_result['f_score'] = (2*precision*recall)/(precision+recall) if (type(precision) is float and recall > 0) else '-'\n",
        "        \n",
        "        eval_list.append(eval_result)\n",
        "\n",
        "    eval_list.append({'tag': 'accuracy=%.2f' % accuracy, 'correct_count': '', 'precision': '', 'recall': '', 'f_score': ''})\n",
        "    \n",
        "    df = pd.DataFrame.from_dict(eval_list)\n",
        "    df = df[['tag', 'precision', 'recall', 'f_score', 'correct_count']]\n",
        "    display(df)"
      ],
      "execution_count": 0,
      "outputs": []
    },
    {
      "cell_type": "code",
      "metadata": {
        "id": "55V27LNgFjhc",
        "colab_type": "code",
        "outputId": "87849380-e821-42a5-d4e8-f1ff344149b3",
        "colab": {
          "base_uri": "https://localhost:8080/",
          "height": 648
        }
      },
      "source": [
        "y_pred = model_simple.predict(x_test_tf)\n",
        "ypred = [outputToLabel(y_pred[i],len(y_test[i])) for i in range(len(y_pred))]\n",
        "evaluation_report(y_test_ind, ypred)"
      ],
      "execution_count": 0,
      "outputs": [
        {
          "output_type": "display_data",
          "data": {
            "text/html": [
              "<div>\n",
              "<style scoped>\n",
              "    .dataframe tbody tr th:only-of-type {\n",
              "        vertical-align: middle;\n",
              "    }\n",
              "\n",
              "    .dataframe tbody tr th {\n",
              "        vertical-align: top;\n",
              "    }\n",
              "\n",
              "    .dataframe thead th {\n",
              "        text-align: right;\n",
              "    }\n",
              "</style>\n",
              "<table border=\"1\" class=\"dataframe\">\n",
              "  <thead>\n",
              "    <tr style=\"text-align: right;\">\n",
              "      <th></th>\n",
              "      <th>tag</th>\n",
              "      <th>precision</th>\n",
              "      <th>recall</th>\n",
              "      <th>f_score</th>\n",
              "      <th>correct_count</th>\n",
              "    </tr>\n",
              "  </thead>\n",
              "  <tbody>\n",
              "    <tr>\n",
              "      <th>0</th>\n",
              "      <td>0</td>\n",
              "      <td>6.26866</td>\n",
              "      <td>6.60377</td>\n",
              "      <td>6.43185</td>\n",
              "      <td>21</td>\n",
              "    </tr>\n",
              "    <tr>\n",
              "      <th>1</th>\n",
              "      <td>1</td>\n",
              "      <td>-</td>\n",
              "      <td>0</td>\n",
              "      <td>-</td>\n",
              "      <td>0</td>\n",
              "    </tr>\n",
              "    <tr>\n",
              "      <th>2</th>\n",
              "      <td>2</td>\n",
              "      <td>-</td>\n",
              "      <td>0</td>\n",
              "      <td>-</td>\n",
              "      <td>0</td>\n",
              "    </tr>\n",
              "    <tr>\n",
              "      <th>3</th>\n",
              "      <td>3</td>\n",
              "      <td>28.8889</td>\n",
              "      <td>1.8705</td>\n",
              "      <td>3.51351</td>\n",
              "      <td>13</td>\n",
              "    </tr>\n",
              "    <tr>\n",
              "      <th>4</th>\n",
              "      <td>4</td>\n",
              "      <td>-</td>\n",
              "      <td>0</td>\n",
              "      <td>-</td>\n",
              "      <td>0</td>\n",
              "    </tr>\n",
              "    <tr>\n",
              "      <th>5</th>\n",
              "      <td>5</td>\n",
              "      <td>25</td>\n",
              "      <td>0.277778</td>\n",
              "      <td>0.549451</td>\n",
              "      <td>2</td>\n",
              "    </tr>\n",
              "    <tr>\n",
              "      <th>6</th>\n",
              "      <td>6</td>\n",
              "      <td>30.2703</td>\n",
              "      <td>9.33333</td>\n",
              "      <td>14.2675</td>\n",
              "      <td>56</td>\n",
              "    </tr>\n",
              "    <tr>\n",
              "      <th>7</th>\n",
              "      <td>7</td>\n",
              "      <td>-</td>\n",
              "      <td>0</td>\n",
              "      <td>-</td>\n",
              "      <td>0</td>\n",
              "    </tr>\n",
              "    <tr>\n",
              "      <th>8</th>\n",
              "      <td>8</td>\n",
              "      <td>-</td>\n",
              "      <td>0</td>\n",
              "      <td>-</td>\n",
              "      <td>0</td>\n",
              "    </tr>\n",
              "    <tr>\n",
              "      <th>9</th>\n",
              "      <td>9</td>\n",
              "      <td>-</td>\n",
              "      <td>0</td>\n",
              "      <td>-</td>\n",
              "      <td>0</td>\n",
              "    </tr>\n",
              "    <tr>\n",
              "      <th>10</th>\n",
              "      <td>10</td>\n",
              "      <td>77.7778</td>\n",
              "      <td>6.87237</td>\n",
              "      <td>12.6289</td>\n",
              "      <td>49</td>\n",
              "    </tr>\n",
              "    <tr>\n",
              "      <th>11</th>\n",
              "      <td>11</td>\n",
              "      <td>-</td>\n",
              "      <td>0</td>\n",
              "      <td>-</td>\n",
              "      <td>0</td>\n",
              "    </tr>\n",
              "    <tr>\n",
              "      <th>12</th>\n",
              "      <td>12</td>\n",
              "      <td>-</td>\n",
              "      <td>0</td>\n",
              "      <td>-</td>\n",
              "      <td>0</td>\n",
              "    </tr>\n",
              "    <tr>\n",
              "      <th>13</th>\n",
              "      <td>13</td>\n",
              "      <td>0</td>\n",
              "      <td>0</td>\n",
              "      <td>-</td>\n",
              "      <td>0</td>\n",
              "    </tr>\n",
              "    <tr>\n",
              "      <th>14</th>\n",
              "      <td>14</td>\n",
              "      <td>-</td>\n",
              "      <td>0</td>\n",
              "      <td>-</td>\n",
              "      <td>0</td>\n",
              "    </tr>\n",
              "    <tr>\n",
              "      <th>15</th>\n",
              "      <td>15</td>\n",
              "      <td>0</td>\n",
              "      <td>0</td>\n",
              "      <td>-</td>\n",
              "      <td>0</td>\n",
              "    </tr>\n",
              "    <tr>\n",
              "      <th>16</th>\n",
              "      <td>16</td>\n",
              "      <td>-</td>\n",
              "      <td>0</td>\n",
              "      <td>-</td>\n",
              "      <td>0</td>\n",
              "    </tr>\n",
              "    <tr>\n",
              "      <th>17</th>\n",
              "      <td>17</td>\n",
              "      <td>70.073</td>\n",
              "      <td>48.3221</td>\n",
              "      <td>57.1996</td>\n",
              "      <td>288</td>\n",
              "    </tr>\n",
              "    <tr>\n",
              "      <th>18</th>\n",
              "      <td>18</td>\n",
              "      <td>90.4273</td>\n",
              "      <td>99.5798</td>\n",
              "      <td>94.7831</td>\n",
              "      <td>38154</td>\n",
              "    </tr>\n",
              "    <tr>\n",
              "      <th>19</th>\n",
              "      <td>accuracy=83.85</td>\n",
              "      <td></td>\n",
              "      <td></td>\n",
              "      <td></td>\n",
              "      <td></td>\n",
              "    </tr>\n",
              "  </tbody>\n",
              "</table>\n",
              "</div>"
            ],
            "text/plain": [
              "               tag precision    recall   f_score correct_count\n",
              "0                0   6.26866   6.60377   6.43185            21\n",
              "1                1         -         0         -             0\n",
              "2                2         -         0         -             0\n",
              "3                3   28.8889    1.8705   3.51351            13\n",
              "4                4         -         0         -             0\n",
              "5                5        25  0.277778  0.549451             2\n",
              "6                6   30.2703   9.33333   14.2675            56\n",
              "7                7         -         0         -             0\n",
              "8                8         -         0         -             0\n",
              "9                9         -         0         -             0\n",
              "10              10   77.7778   6.87237   12.6289            49\n",
              "11              11         -         0         -             0\n",
              "12              12         -         0         -             0\n",
              "13              13         0         0         -             0\n",
              "14              14         -         0         -             0\n",
              "15              15         0         0         -             0\n",
              "16              16         -         0         -             0\n",
              "17              17    70.073   48.3221   57.1996           288\n",
              "18              18   90.4273   99.5798   94.7831         38154\n",
              "19  accuracy=83.85                                            "
            ]
          },
          "metadata": {
            "tags": []
          }
        }
      ]
    },
    {
      "cell_type": "code",
      "metadata": {
        "id": "kDik0OOaMGEc",
        "colab_type": "code",
        "colab": {}
      },
      "source": [
        "# y_pred=model.predict(x_test_tf)\n",
        "# y_pred[0]"
      ],
      "execution_count": 0,
      "outputs": []
    },
    {
      "cell_type": "markdown",
      "metadata": {
        "id": "ioIAVq33sL1w",
        "colab_type": "text"
      },
      "source": [
        "## crf model"
      ]
    },
    {
      "cell_type": "code",
      "metadata": {
        "id": "h8-nSRb1Lpuo",
        "colab_type": "code",
        "colab": {}
      },
      "source": [
        "K.clear_session()"
      ],
      "execution_count": 0,
      "outputs": []
    },
    {
      "cell_type": "code",
      "metadata": {
        "id": "jkKj7sbLFt3u",
        "colab_type": "code",
        "outputId": "f39d6134-136e-47d9-dcc7-9d049cf2c7a3",
        "colab": {
          "base_uri": "https://localhost:8080/",
          "height": 694
        }
      },
      "source": [
        "from keras.models import Model, Input\n",
        "from keras_contrib.losses import crf_loss\n",
        "from keras_contrib.metrics import crf_viterbi_accuracy\n",
        "\n",
        "# Write your code here\n",
        "def get_crf_model():\n",
        "  input1 = Input(shape=(120,))\n",
        "  x = Embedding(len(word2idx),32,input_length=120)(input1)\n",
        "  x = Bidirectional(GRU(32, return_sequences=True))(x)\n",
        "  out = CRF(len(y_pros),sparse_target=True)(x)\n",
        "  \n",
        "  model = Model(input1, out)\n",
        "  \n",
        "  adam  = Adam(lr=0.001)\n",
        "  model.compile(optimizer=adam,  loss=crf_loss, metrics=[crf_viterbi_accuracy])\n",
        "  print(model.summary())\n",
        "  return model \n",
        "\n",
        "model_crf = get_crf_model()\n",
        "# %%time\n",
        "model_crf.fit(x_train_tf,y_train_tf,batch_size=64,epochs=10,verbose=1)"
      ],
      "execution_count": 0,
      "outputs": [
        {
          "output_type": "stream",
          "text": [
            "Model: \"model_1\"\n",
            "_________________________________________________________________\n",
            "Layer (type)                 Output Shape              Param #   \n",
            "=================================================================\n",
            "input_1 (InputLayer)         (None, 120)               0         \n",
            "_________________________________________________________________\n",
            "embedding_1 (Embedding)      (None, 120, 32)           107552    \n",
            "_________________________________________________________________\n",
            "bidirectional_1 (Bidirection (None, 120, 64)           12480     \n",
            "_________________________________________________________________\n",
            "crf_1 (CRF)                  (None, 120, 19)           1634      \n",
            "=================================================================\n",
            "Total params: 121,666\n",
            "Trainable params: 121,666\n",
            "Non-trainable params: 0\n",
            "_________________________________________________________________\n",
            "None\n",
            "Epoch 1/10\n",
            "2370/2370 [==============================] - 11s 4ms/step - loss: 2.5590 - crf_viterbi_accuracy: 0.2833\n",
            "Epoch 2/10\n",
            "2370/2370 [==============================] - 9s 4ms/step - loss: 0.4950 - crf_viterbi_accuracy: 0.8383\n",
            "Epoch 3/10\n",
            "2370/2370 [==============================] - 8s 4ms/step - loss: 0.1134 - crf_viterbi_accuracy: 0.9878\n",
            "Epoch 4/10\n",
            "2370/2370 [==============================] - 9s 4ms/step - loss: 0.0339 - crf_viterbi_accuracy: 0.9963\n",
            "Epoch 5/10\n",
            "2370/2370 [==============================] - 9s 4ms/step - loss: 0.0255 - crf_viterbi_accuracy: 0.9970\n",
            "Epoch 6/10\n",
            "2370/2370 [==============================] - 9s 4ms/step - loss: 0.0217 - crf_viterbi_accuracy: 0.9970\n",
            "Epoch 7/10\n",
            "2370/2370 [==============================] - 9s 4ms/step - loss: 0.0193 - crf_viterbi_accuracy: 0.9972\n",
            "Epoch 8/10\n",
            "2370/2370 [==============================] - 9s 4ms/step - loss: 0.0175 - crf_viterbi_accuracy: 0.9973\n",
            "Epoch 9/10\n",
            "2370/2370 [==============================] - 9s 4ms/step - loss: 0.0162 - crf_viterbi_accuracy: 0.9973\n",
            "Epoch 10/10\n",
            "2370/2370 [==============================] - 9s 4ms/step - loss: 0.0150 - crf_viterbi_accuracy: 0.9975\n"
          ],
          "name": "stdout"
        },
        {
          "output_type": "execute_result",
          "data": {
            "text/plain": [
              "<keras.callbacks.History at 0x7f714c329358>"
            ]
          },
          "metadata": {
            "tags": []
          },
          "execution_count": 63
        }
      ]
    },
    {
      "cell_type": "code",
      "metadata": {
        "id": "neUMzAcG96YX",
        "colab_type": "code",
        "outputId": "383fb099-0e3b-4128-d00b-9d5920b9c49d",
        "colab": {
          "base_uri": "https://localhost:8080/",
          "height": 648
        }
      },
      "source": [
        "y_pred = model_crf.predict(x_test_tf)\n",
        "ypred = [outputToLabel(y_pred[i],len(y_test[i])) for i in range(len(y_pred))]\n",
        "evaluation_report(y_test_ind, ypred)"
      ],
      "execution_count": 0,
      "outputs": [
        {
          "output_type": "display_data",
          "data": {
            "text/html": [
              "<div>\n",
              "<style scoped>\n",
              "    .dataframe tbody tr th:only-of-type {\n",
              "        vertical-align: middle;\n",
              "    }\n",
              "\n",
              "    .dataframe tbody tr th {\n",
              "        vertical-align: top;\n",
              "    }\n",
              "\n",
              "    .dataframe thead th {\n",
              "        text-align: right;\n",
              "    }\n",
              "</style>\n",
              "<table border=\"1\" class=\"dataframe\">\n",
              "  <thead>\n",
              "    <tr style=\"text-align: right;\">\n",
              "      <th></th>\n",
              "      <th>tag</th>\n",
              "      <th>precision</th>\n",
              "      <th>recall</th>\n",
              "      <th>f_score</th>\n",
              "      <th>correct_count</th>\n",
              "    </tr>\n",
              "  </thead>\n",
              "  <tbody>\n",
              "    <tr>\n",
              "      <th>0</th>\n",
              "      <td>0</td>\n",
              "      <td>0.732346</td>\n",
              "      <td>99.3711</td>\n",
              "      <td>1.45398</td>\n",
              "      <td>316</td>\n",
              "    </tr>\n",
              "    <tr>\n",
              "      <th>1</th>\n",
              "      <td>1</td>\n",
              "      <td>0</td>\n",
              "      <td>0</td>\n",
              "      <td>-</td>\n",
              "      <td>0</td>\n",
              "    </tr>\n",
              "    <tr>\n",
              "      <th>2</th>\n",
              "      <td>2</td>\n",
              "      <td>-</td>\n",
              "      <td>0</td>\n",
              "      <td>-</td>\n",
              "      <td>0</td>\n",
              "    </tr>\n",
              "    <tr>\n",
              "      <th>3</th>\n",
              "      <td>3</td>\n",
              "      <td>-</td>\n",
              "      <td>0</td>\n",
              "      <td>-</td>\n",
              "      <td>0</td>\n",
              "    </tr>\n",
              "    <tr>\n",
              "      <th>4</th>\n",
              "      <td>4</td>\n",
              "      <td>-</td>\n",
              "      <td>0</td>\n",
              "      <td>-</td>\n",
              "      <td>0</td>\n",
              "    </tr>\n",
              "    <tr>\n",
              "      <th>5</th>\n",
              "      <td>5</td>\n",
              "      <td>-</td>\n",
              "      <td>0</td>\n",
              "      <td>-</td>\n",
              "      <td>0</td>\n",
              "    </tr>\n",
              "    <tr>\n",
              "      <th>6</th>\n",
              "      <td>6</td>\n",
              "      <td>-</td>\n",
              "      <td>0</td>\n",
              "      <td>-</td>\n",
              "      <td>0</td>\n",
              "    </tr>\n",
              "    <tr>\n",
              "      <th>7</th>\n",
              "      <td>7</td>\n",
              "      <td>-</td>\n",
              "      <td>0</td>\n",
              "      <td>-</td>\n",
              "      <td>0</td>\n",
              "    </tr>\n",
              "    <tr>\n",
              "      <th>8</th>\n",
              "      <td>8</td>\n",
              "      <td>-</td>\n",
              "      <td>0</td>\n",
              "      <td>-</td>\n",
              "      <td>0</td>\n",
              "    </tr>\n",
              "    <tr>\n",
              "      <th>9</th>\n",
              "      <td>9</td>\n",
              "      <td>-</td>\n",
              "      <td>0</td>\n",
              "      <td>-</td>\n",
              "      <td>0</td>\n",
              "    </tr>\n",
              "    <tr>\n",
              "      <th>10</th>\n",
              "      <td>10</td>\n",
              "      <td>-</td>\n",
              "      <td>0</td>\n",
              "      <td>-</td>\n",
              "      <td>0</td>\n",
              "    </tr>\n",
              "    <tr>\n",
              "      <th>11</th>\n",
              "      <td>11</td>\n",
              "      <td>-</td>\n",
              "      <td>0</td>\n",
              "      <td>-</td>\n",
              "      <td>0</td>\n",
              "    </tr>\n",
              "    <tr>\n",
              "      <th>12</th>\n",
              "      <td>12</td>\n",
              "      <td>-</td>\n",
              "      <td>0</td>\n",
              "      <td>-</td>\n",
              "      <td>0</td>\n",
              "    </tr>\n",
              "    <tr>\n",
              "      <th>13</th>\n",
              "      <td>13</td>\n",
              "      <td>-</td>\n",
              "      <td>0</td>\n",
              "      <td>-</td>\n",
              "      <td>0</td>\n",
              "    </tr>\n",
              "    <tr>\n",
              "      <th>14</th>\n",
              "      <td>14</td>\n",
              "      <td>-</td>\n",
              "      <td>0</td>\n",
              "      <td>-</td>\n",
              "      <td>0</td>\n",
              "    </tr>\n",
              "    <tr>\n",
              "      <th>15</th>\n",
              "      <td>15</td>\n",
              "      <td>-</td>\n",
              "      <td>0</td>\n",
              "      <td>-</td>\n",
              "      <td>0</td>\n",
              "    </tr>\n",
              "    <tr>\n",
              "      <th>16</th>\n",
              "      <td>16</td>\n",
              "      <td>-</td>\n",
              "      <td>0</td>\n",
              "      <td>-</td>\n",
              "      <td>0</td>\n",
              "    </tr>\n",
              "    <tr>\n",
              "      <th>17</th>\n",
              "      <td>17</td>\n",
              "      <td>-</td>\n",
              "      <td>0</td>\n",
              "      <td>-</td>\n",
              "      <td>0</td>\n",
              "    </tr>\n",
              "    <tr>\n",
              "      <th>18</th>\n",
              "      <td>18</td>\n",
              "      <td>-</td>\n",
              "      <td>0</td>\n",
              "      <td>-</td>\n",
              "      <td>0</td>\n",
              "    </tr>\n",
              "    <tr>\n",
              "      <th>19</th>\n",
              "      <td>accuracy=0.69</td>\n",
              "      <td></td>\n",
              "      <td></td>\n",
              "      <td></td>\n",
              "      <td></td>\n",
              "    </tr>\n",
              "  </tbody>\n",
              "</table>\n",
              "</div>"
            ],
            "text/plain": [
              "              tag precision   recall  f_score correct_count\n",
              "0               0  0.732346  99.3711  1.45398           316\n",
              "1               1         0        0        -             0\n",
              "2               2         -        0        -             0\n",
              "3               3         -        0        -             0\n",
              "4               4         -        0        -             0\n",
              "5               5         -        0        -             0\n",
              "6               6         -        0        -             0\n",
              "7               7         -        0        -             0\n",
              "8               8         -        0        -             0\n",
              "9               9         -        0        -             0\n",
              "10             10         -        0        -             0\n",
              "11             11         -        0        -             0\n",
              "12             12         -        0        -             0\n",
              "13             13         -        0        -             0\n",
              "14             14         -        0        -             0\n",
              "15             15         -        0        -             0\n",
              "16             16         -        0        -             0\n",
              "17             17         -        0        -             0\n",
              "18             18         -        0        -             0\n",
              "19  accuracy=0.69                                          "
            ]
          },
          "metadata": {
            "tags": []
          }
        }
      ]
    },
    {
      "cell_type": "markdown",
      "metadata": {
        "id": "gwifOe5vCrTC",
        "colab_type": "text"
      },
      "source": [
        "---"
      ]
    },
    {
      "cell_type": "markdown",
      "metadata": {
        "id": "6PxtNk48h2bB",
        "colab_type": "text"
      },
      "source": [
        "#python-crfsuite"
      ]
    },
    {
      "cell_type": "code",
      "metadata": {
        "id": "xfX0om9ZBYqO",
        "colab_type": "code",
        "outputId": "5064c8c9-9405-417e-f0f9-8d1d5bf0948a",
        "colab": {
          "base_uri": "https://localhost:8080/",
          "height": 124
        }
      },
      "source": [
        "!pip install python-crfsuite"
      ],
      "execution_count": 0,
      "outputs": [
        {
          "output_type": "stream",
          "text": [
            "Collecting python-crfsuite\n",
            "\u001b[?25l  Downloading https://files.pythonhosted.org/packages/2f/86/cfcd71edca9d25d3d331209a20f6314b6f3f134c29478f90559cee9ce091/python_crfsuite-0.9.6-cp36-cp36m-manylinux1_x86_64.whl (754kB)\n",
            "\u001b[K     |████████████████████████████████| 757kB 3.5MB/s \n",
            "\u001b[?25hInstalling collected packages: python-crfsuite\n",
            "Successfully installed python-crfsuite-0.9.6\n"
          ],
          "name": "stdout"
        }
      ]
    },
    {
      "cell_type": "code",
      "metadata": {
        "id": "lkwS8bC_DQj1",
        "colab_type": "code",
        "colab": {}
      },
      "source": [
        "import pycrfsuite"
      ],
      "execution_count": 0,
      "outputs": []
    },
    {
      "cell_type": "code",
      "metadata": {
        "id": "ux4iTEqRnyed",
        "colab_type": "code",
        "colab": {}
      },
      "source": [
        "def word2features(sent, i):\n",
        "    word = sent[i]\n",
        "    \n",
        "    features = {\n",
        "        'word': word,\n",
        "        'word.isdigit': word.isdigit(),\n",
        "        'word.length': len(word),\n",
        "    }\n",
        "    \n",
        "    features['BOS'] = (i == 0)  # beginning of sentence\n",
        "    features['EOS'] = (i == len(sent)-1)  # end of sentence\n",
        "    \n",
        "    return features"
      ],
      "execution_count": 0,
      "outputs": []
    },
    {
      "cell_type": "code",
      "metadata": {
        "id": "BwfGT8J_PRpl",
        "colab_type": "code",
        "colab": {}
      },
      "source": [
        "x_train_pycrf = [[word2features(sent,i) for i in range(len(sent))] for sent in X_train]\n",
        "x_test_pycrf = [[word2features(sent,i) for i in range(len(sent))] for sent in X_test]"
      ],
      "execution_count": 0,
      "outputs": []
    },
    {
      "cell_type": "code",
      "metadata": {
        "id": "INamsMx5PmPV",
        "colab_type": "code",
        "colab": {}
      },
      "source": [
        ""
      ],
      "execution_count": 0,
      "outputs": []
    },
    {
      "cell_type": "markdown",
      "metadata": {
        "id": "Dw3wEOA9Tp0w",
        "colab_type": "text"
      },
      "source": [
        "**trainer** "
      ]
    },
    {
      "cell_type": "code",
      "metadata": {
        "id": "jMFpjjOYPQiH",
        "colab_type": "code",
        "colab": {}
      },
      "source": [
        "trainer = pycrfsuite.Trainer(verbose=False)\n",
        "for xseq, yseq in zip(x_train_pycrf, y_train):\n",
        "    trainer.append(xseq, yseq)"
      ],
      "execution_count": 0,
      "outputs": []
    },
    {
      "cell_type": "code",
      "metadata": {
        "id": "MsJsFYn6T3WK",
        "colab_type": "code",
        "outputId": "c25a8be4-fdf4-453f-e4f0-812d2f97b667",
        "colab": {
          "base_uri": "https://localhost:8080/",
          "height": 225
        }
      },
      "source": [
        "trainer.params()"
      ],
      "execution_count": 0,
      "outputs": [
        {
          "output_type": "execute_result",
          "data": {
            "text/plain": [
              "['feature.minfreq',\n",
              " 'feature.possible_states',\n",
              " 'feature.possible_transitions',\n",
              " 'c1',\n",
              " 'c2',\n",
              " 'max_iterations',\n",
              " 'num_memories',\n",
              " 'epsilon',\n",
              " 'period',\n",
              " 'delta',\n",
              " 'linesearch',\n",
              " 'max_linesearch']"
            ]
          },
          "metadata": {
            "tags": []
          },
          "execution_count": 70
        }
      ]
    },
    {
      "cell_type": "code",
      "metadata": {
        "id": "96WTRkpQT7U-",
        "colab_type": "code",
        "colab": {}
      },
      "source": [
        "trainer.set_params({\n",
        "    'max_iterations': 100,\n",
        "    'feature.possible_transitions': True,\n",
        "    'feature.possible_states': True,\n",
        "})"
      ],
      "execution_count": 0,
      "outputs": []
    },
    {
      "cell_type": "code",
      "metadata": {
        "id": "7_yomyoCUB8g",
        "colab_type": "code",
        "outputId": "ad91827c-0f09-4854-e4d5-d44719c7cf9e",
        "colab": {
          "base_uri": "https://localhost:8080/",
          "height": 52
        }
      },
      "source": [
        "%%time\n",
        "model_path = 'crf_basic.model'\n",
        "trainer.train(model_path)"
      ],
      "execution_count": 0,
      "outputs": [
        {
          "output_type": "stream",
          "text": [
            "CPU times: user 22.7 s, sys: 25.1 ms, total: 22.8 s\n",
            "Wall time: 22.8 s\n"
          ],
          "name": "stdout"
        }
      ]
    },
    {
      "cell_type": "code",
      "metadata": {
        "id": "Genn_-K_ZOs_",
        "colab_type": "code",
        "outputId": "4938f190-93a9-46c6-bfd7-40844e08b71d",
        "colab": {
          "base_uri": "https://localhost:8080/",
          "height": 52
        }
      },
      "source": [
        "!ls"
      ],
      "execution_count": 0,
      "outputs": [
        {
          "output_type": "stream",
          "text": [
            "crf_basic.model  __MACOSX     thai_ner-08072018-14-01.raw.conll\n",
            "gdrive\t\t sample_data  thai_ner-11072018-21-14.raw.conll\n"
          ],
          "name": "stdout"
        }
      ]
    },
    {
      "cell_type": "markdown",
      "metadata": {
        "id": "MS7B5aToUGtN",
        "colab_type": "text"
      },
      "source": [
        "**making prediction**"
      ]
    },
    {
      "cell_type": "code",
      "metadata": {
        "id": "BKQ5Dp2sUz3J",
        "colab_type": "code",
        "outputId": "80623203-e2bc-48c9-bbce-789dc0bf1101",
        "colab": {
          "base_uri": "https://localhost:8080/",
          "height": 35
        }
      },
      "source": [
        "tagger = pycrfsuite.Tagger()\n",
        "tagger.open(model_path)"
      ],
      "execution_count": 0,
      "outputs": [
        {
          "output_type": "execute_result",
          "data": {
            "text/plain": [
              "<contextlib.closing at 0x7f7176228780>"
            ]
          },
          "metadata": {
            "tags": []
          },
          "execution_count": 74
        }
      ]
    },
    {
      "cell_type": "code",
      "metadata": {
        "id": "dL--_xq7VKDy",
        "colab_type": "code",
        "outputId": "faeb826b-f092-4c67-91ec-6018713a73e2",
        "colab": {
          "base_uri": "https://localhost:8080/",
          "height": 89
        }
      },
      "source": [
        "idx_sample = 5\n",
        "example_sent = X_test[idx_sample]\n",
        "corr_output_example_sent = y_test[idx_sample]\n",
        "print('_'.join(example_sent))\n",
        "x_sample_pycrf = [word2features(example_sent,i) for i in range(len(example_sent))]\n",
        "print('Predicted: ', ' '.join(tagger.tag(x_sample_pycrf)))\n",
        "print('Correct: ', ' '.join(corr_output_example_sent))"
      ],
      "execution_count": 0,
      "outputs": [
        {
          "output_type": "stream",
          "text": [
            "เมื่อ_วัน_ที่_ _13_ _พ.ค._ _ที่_ทำเนียบรัฐบาล_ _นายวิษณุ เครืองาม_ _รอง_นายก_รัฐมนตรี_ _กล่าว_ถึง_กรณี_นายไพบูลย์ นิติตะวัน_ _สมาชิก_ _สปช._ใน_ฐานะ_ _กมธ._ยก_ร่าง_รัฐธรรมนูญ_เสนอ_ให้_มี_การ_แก้ไข_รัฐธรรมนูญ_ _มาตรา_ _308_ _เพื่อ_ทำ_ประชามติ_สอบถาม_ประชาชน_ว่า_ _ควร_ปฏิรูป_ _2_ _ปี_ก่อน_การ_เลือกตั้ง_หรือ_ไม่\n",
            "Predicted:  O O O O O O O O O O O B-ORGANIZATION O O O O O O O O B-ORGANIZATION O O O O O O O O O O O O O O O O O O O O O O O O O O O O O O O O O O O O O O O O\n",
            "Correct:  O O O O B-DATE I-DATE I-DATE O O B-LOCATION O B-PERSON I-PERSON I-PERSON I-PERSON I-PERSON O O O O B-PERSON O O B-ORGANIZATION I-ORGANIZATION O O O B-ORGANIZATION I-ORGANIZATION I-ORGANIZATION I-ORGANIZATION O O O O O O O O O O O O O O O O O O O O O B-DATE I-DATE I-DATE O O O O O\n"
          ],
          "name": "stdout"
        }
      ]
    },
    {
      "cell_type": "code",
      "metadata": {
        "id": "UXK2qBBeVKmH",
        "colab_type": "code",
        "outputId": "b226da92-d4bc-4525-c970-67cea3362196",
        "colab": {
          "base_uri": "https://localhost:8080/",
          "height": 648
        }
      },
      "source": [
        "y_pred = [tagger.tag(x_sent) for x_sent in x_test_pycrf]\n",
        "evaluation_report(y_test, y_pred)"
      ],
      "execution_count": 0,
      "outputs": [
        {
          "output_type": "display_data",
          "data": {
            "text/html": [
              "<div>\n",
              "<style scoped>\n",
              "    .dataframe tbody tr th:only-of-type {\n",
              "        vertical-align: middle;\n",
              "    }\n",
              "\n",
              "    .dataframe tbody tr th {\n",
              "        vertical-align: top;\n",
              "    }\n",
              "\n",
              "    .dataframe thead th {\n",
              "        text-align: right;\n",
              "    }\n",
              "</style>\n",
              "<table border=\"1\" class=\"dataframe\">\n",
              "  <thead>\n",
              "    <tr style=\"text-align: right;\">\n",
              "      <th></th>\n",
              "      <th>tag</th>\n",
              "      <th>precision</th>\n",
              "      <th>recall</th>\n",
              "      <th>f_score</th>\n",
              "      <th>correct_count</th>\n",
              "    </tr>\n",
              "  </thead>\n",
              "  <tbody>\n",
              "    <tr>\n",
              "      <th>0</th>\n",
              "      <td>B-DATE</td>\n",
              "      <td>76.6667</td>\n",
              "      <td>20.7831</td>\n",
              "      <td>32.7014</td>\n",
              "      <td>69</td>\n",
              "    </tr>\n",
              "    <tr>\n",
              "      <th>1</th>\n",
              "      <td>B-EMAIL</td>\n",
              "      <td>-</td>\n",
              "      <td>0</td>\n",
              "      <td>-</td>\n",
              "      <td>0</td>\n",
              "    </tr>\n",
              "    <tr>\n",
              "      <th>2</th>\n",
              "      <td>B-LEN</td>\n",
              "      <td>-</td>\n",
              "      <td>0</td>\n",
              "      <td>-</td>\n",
              "      <td>0</td>\n",
              "    </tr>\n",
              "    <tr>\n",
              "      <th>3</th>\n",
              "      <td>B-LOCATION</td>\n",
              "      <td>50</td>\n",
              "      <td>3.41207</td>\n",
              "      <td>6.38821</td>\n",
              "      <td>26</td>\n",
              "    </tr>\n",
              "    <tr>\n",
              "      <th>4</th>\n",
              "      <td>B-MONEY</td>\n",
              "      <td>100</td>\n",
              "      <td>20</td>\n",
              "      <td>33.3333</td>\n",
              "      <td>11</td>\n",
              "    </tr>\n",
              "    <tr>\n",
              "      <th>5</th>\n",
              "      <td>B-ORGANIZATION</td>\n",
              "      <td>40.5594</td>\n",
              "      <td>23.6092</td>\n",
              "      <td>29.8456</td>\n",
              "      <td>174</td>\n",
              "    </tr>\n",
              "    <tr>\n",
              "      <th>6</th>\n",
              "      <td>B-PERSON</td>\n",
              "      <td>56.338</td>\n",
              "      <td>19.6399</td>\n",
              "      <td>29.1262</td>\n",
              "      <td>120</td>\n",
              "    </tr>\n",
              "    <tr>\n",
              "      <th>7</th>\n",
              "      <td>B-PHONE</td>\n",
              "      <td>-</td>\n",
              "      <td>0</td>\n",
              "      <td>-</td>\n",
              "      <td>0</td>\n",
              "    </tr>\n",
              "    <tr>\n",
              "      <th>8</th>\n",
              "      <td>B-TIME</td>\n",
              "      <td>95.7627</td>\n",
              "      <td>61.7486</td>\n",
              "      <td>75.0831</td>\n",
              "      <td>113</td>\n",
              "    </tr>\n",
              "    <tr>\n",
              "      <th>9</th>\n",
              "      <td>B-ZIP</td>\n",
              "      <td>-</td>\n",
              "      <td>0</td>\n",
              "      <td>-</td>\n",
              "      <td>0</td>\n",
              "    </tr>\n",
              "    <tr>\n",
              "      <th>10</th>\n",
              "      <td>I-DATE</td>\n",
              "      <td>59.1422</td>\n",
              "      <td>35.5495</td>\n",
              "      <td>44.4068</td>\n",
              "      <td>262</td>\n",
              "    </tr>\n",
              "    <tr>\n",
              "      <th>11</th>\n",
              "      <td>I-LEN</td>\n",
              "      <td>-</td>\n",
              "      <td>0</td>\n",
              "      <td>-</td>\n",
              "      <td>0</td>\n",
              "    </tr>\n",
              "    <tr>\n",
              "      <th>12</th>\n",
              "      <td>I-LOCATION</td>\n",
              "      <td>-</td>\n",
              "      <td>0</td>\n",
              "      <td>-</td>\n",
              "      <td>0</td>\n",
              "    </tr>\n",
              "    <tr>\n",
              "      <th>13</th>\n",
              "      <td>I-MONEY</td>\n",
              "      <td>100</td>\n",
              "      <td>29.6482</td>\n",
              "      <td>45.7364</td>\n",
              "      <td>59</td>\n",
              "    </tr>\n",
              "    <tr>\n",
              "      <th>14</th>\n",
              "      <td>I-ORGANIZATION</td>\n",
              "      <td>6.15385</td>\n",
              "      <td>1.23839</td>\n",
              "      <td>2.06186</td>\n",
              "      <td>4</td>\n",
              "    </tr>\n",
              "    <tr>\n",
              "      <th>15</th>\n",
              "      <td>I-PERSON</td>\n",
              "      <td>66.6667</td>\n",
              "      <td>17</td>\n",
              "      <td>27.0916</td>\n",
              "      <td>34</td>\n",
              "    </tr>\n",
              "    <tr>\n",
              "      <th>16</th>\n",
              "      <td>I-PHONE</td>\n",
              "      <td>-</td>\n",
              "      <td>0</td>\n",
              "      <td>-</td>\n",
              "      <td>0</td>\n",
              "    </tr>\n",
              "    <tr>\n",
              "      <th>17</th>\n",
              "      <td>I-TIME</td>\n",
              "      <td>96.4059</td>\n",
              "      <td>74.5098</td>\n",
              "      <td>84.0553</td>\n",
              "      <td>456</td>\n",
              "    </tr>\n",
              "    <tr>\n",
              "      <th>18</th>\n",
              "      <td>O</td>\n",
              "      <td>92.4928</td>\n",
              "      <td>99.55</td>\n",
              "      <td>95.8917</td>\n",
              "      <td>40707</td>\n",
              "    </tr>\n",
              "    <tr>\n",
              "      <th>19</th>\n",
              "      <td>accuracy=91.35</td>\n",
              "      <td></td>\n",
              "      <td></td>\n",
              "      <td></td>\n",
              "      <td></td>\n",
              "    </tr>\n",
              "  </tbody>\n",
              "</table>\n",
              "</div>"
            ],
            "text/plain": [
              "               tag precision   recall  f_score correct_count\n",
              "0           B-DATE   76.6667  20.7831  32.7014            69\n",
              "1          B-EMAIL         -        0        -             0\n",
              "2            B-LEN         -        0        -             0\n",
              "3       B-LOCATION        50  3.41207  6.38821            26\n",
              "4          B-MONEY       100       20  33.3333            11\n",
              "5   B-ORGANIZATION   40.5594  23.6092  29.8456           174\n",
              "6         B-PERSON    56.338  19.6399  29.1262           120\n",
              "7          B-PHONE         -        0        -             0\n",
              "8           B-TIME   95.7627  61.7486  75.0831           113\n",
              "9            B-ZIP         -        0        -             0\n",
              "10          I-DATE   59.1422  35.5495  44.4068           262\n",
              "11           I-LEN         -        0        -             0\n",
              "12      I-LOCATION         -        0        -             0\n",
              "13         I-MONEY       100  29.6482  45.7364            59\n",
              "14  I-ORGANIZATION   6.15385  1.23839  2.06186             4\n",
              "15        I-PERSON   66.6667       17  27.0916            34\n",
              "16         I-PHONE         -        0        -             0\n",
              "17          I-TIME   96.4059  74.5098  84.0553           456\n",
              "18               O   92.4928    99.55  95.8917         40707\n",
              "19  accuracy=91.35                                          "
            ]
          },
          "metadata": {
            "tags": []
          }
        }
      ]
    },
    {
      "cell_type": "code",
      "metadata": {
        "id": "gDHU2U1SWcUz",
        "colab_type": "code",
        "colab": {}
      },
      "source": [
        ""
      ],
      "execution_count": 0,
      "outputs": []
    }
  ]
}